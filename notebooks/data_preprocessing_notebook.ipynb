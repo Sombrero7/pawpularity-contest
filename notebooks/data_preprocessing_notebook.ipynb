{
 "cells": [
  {
   "cell_type": "markdown",
   "metadata": {},
   "source": [
    "# Pawpularity Contest - EDA and Data Pre-Processing"
   ]
  },
  {
   "cell_type": "markdown",
   "metadata": {},
   "source": [
    "## Overview"
   ]
  },
  {
   "cell_type": "markdown",
   "metadata": {},
   "source": [
    "A picture is worth a thousand words. But did you know a picture can save a thousand lives? Millions of stray animals suffer on the streets or are euthanized in shelters every day around the world. You might expect pets with attractive photos to generate more interest and be adopted faster. But what makes a good picture? With the help of data science, you may be able to accurately determine a pet photo’s appeal and even suggest improvements to give these rescue animals a higher chance of loving homes."
   ]
  },
  {
   "cell_type": "markdown",
   "metadata": {},
   "source": [
    "## Data Understanding"
   ]
  },
  {
   "cell_type": "markdown",
   "metadata": {},
   "source": [
    "For this project, we have historical data from the PetFinder.my website composed of almost 10,000 images and hand-labeled metadata per image. We'll begin by investigating the metadata data set, then move on to the corresponding images data set. "
   ]
  },
  {
   "cell_type": "markdown",
   "metadata": {},
   "source": [
    "### Metadata Regression Dataset"
   ]
  },
  {
   "cell_type": "markdown",
   "metadata": {},
   "source": [
    "In this section, we will put the Metadata under the microscope, seraching for trends between its features and our target. "
   ]
  },
  {
   "cell_type": "code",
   "execution_count": 1,
   "metadata": {},
   "outputs": [],
   "source": [
    "# import necessary modules\n",
    "import pandas as pd\n",
    "import numpy as np\n",
    "import matplotlib.pyplot as plt\n",
    "import seaborn as sns\n",
    "\n",
    "# set optional module display options\n",
    "%matplotlib inline\n",
    "pd.set_option('display.max_colwidth', None)"
   ]
  },
  {
   "cell_type": "code",
   "execution_count": 2,
   "metadata": {
    "scrolled": true
   },
   "outputs": [
    {
     "data": {
      "text/html": [
       "<div>\n",
       "<style scoped>\n",
       "    .dataframe tbody tr th:only-of-type {\n",
       "        vertical-align: middle;\n",
       "    }\n",
       "\n",
       "    .dataframe tbody tr th {\n",
       "        vertical-align: top;\n",
       "    }\n",
       "\n",
       "    .dataframe thead th {\n",
       "        text-align: right;\n",
       "    }\n",
       "</style>\n",
       "<table border=\"1\" class=\"dataframe\">\n",
       "  <thead>\n",
       "    <tr style=\"text-align: right;\">\n",
       "      <th></th>\n",
       "      <th>Id</th>\n",
       "      <th>Subject Focus</th>\n",
       "      <th>Eyes</th>\n",
       "      <th>Face</th>\n",
       "      <th>Near</th>\n",
       "      <th>Action</th>\n",
       "      <th>Accessory</th>\n",
       "      <th>Group</th>\n",
       "      <th>Collage</th>\n",
       "      <th>Human</th>\n",
       "      <th>Occlusion</th>\n",
       "      <th>Info</th>\n",
       "      <th>Blur</th>\n",
       "      <th>Pawpularity</th>\n",
       "    </tr>\n",
       "  </thead>\n",
       "  <tbody>\n",
       "    <tr>\n",
       "      <th>0</th>\n",
       "      <td>0007de18844b0dbbb5e1f607da0606e0</td>\n",
       "      <td>0</td>\n",
       "      <td>1</td>\n",
       "      <td>1</td>\n",
       "      <td>1</td>\n",
       "      <td>0</td>\n",
       "      <td>0</td>\n",
       "      <td>1</td>\n",
       "      <td>0</td>\n",
       "      <td>0</td>\n",
       "      <td>0</td>\n",
       "      <td>0</td>\n",
       "      <td>0</td>\n",
       "      <td>63</td>\n",
       "    </tr>\n",
       "    <tr>\n",
       "      <th>1</th>\n",
       "      <td>0009c66b9439883ba2750fb825e1d7db</td>\n",
       "      <td>0</td>\n",
       "      <td>1</td>\n",
       "      <td>1</td>\n",
       "      <td>0</td>\n",
       "      <td>0</td>\n",
       "      <td>0</td>\n",
       "      <td>0</td>\n",
       "      <td>0</td>\n",
       "      <td>0</td>\n",
       "      <td>0</td>\n",
       "      <td>0</td>\n",
       "      <td>0</td>\n",
       "      <td>42</td>\n",
       "    </tr>\n",
       "    <tr>\n",
       "      <th>2</th>\n",
       "      <td>0013fd999caf9a3efe1352ca1b0d937e</td>\n",
       "      <td>0</td>\n",
       "      <td>1</td>\n",
       "      <td>1</td>\n",
       "      <td>1</td>\n",
       "      <td>0</td>\n",
       "      <td>0</td>\n",
       "      <td>0</td>\n",
       "      <td>0</td>\n",
       "      <td>1</td>\n",
       "      <td>1</td>\n",
       "      <td>0</td>\n",
       "      <td>0</td>\n",
       "      <td>28</td>\n",
       "    </tr>\n",
       "    <tr>\n",
       "      <th>3</th>\n",
       "      <td>0018df346ac9c1d8413cfcc888ca8246</td>\n",
       "      <td>0</td>\n",
       "      <td>1</td>\n",
       "      <td>1</td>\n",
       "      <td>1</td>\n",
       "      <td>0</td>\n",
       "      <td>0</td>\n",
       "      <td>0</td>\n",
       "      <td>0</td>\n",
       "      <td>0</td>\n",
       "      <td>0</td>\n",
       "      <td>0</td>\n",
       "      <td>0</td>\n",
       "      <td>15</td>\n",
       "    </tr>\n",
       "    <tr>\n",
       "      <th>4</th>\n",
       "      <td>001dc955e10590d3ca4673f034feeef2</td>\n",
       "      <td>0</td>\n",
       "      <td>0</td>\n",
       "      <td>0</td>\n",
       "      <td>1</td>\n",
       "      <td>0</td>\n",
       "      <td>0</td>\n",
       "      <td>1</td>\n",
       "      <td>0</td>\n",
       "      <td>0</td>\n",
       "      <td>0</td>\n",
       "      <td>0</td>\n",
       "      <td>0</td>\n",
       "      <td>72</td>\n",
       "    </tr>\n",
       "  </tbody>\n",
       "</table>\n",
       "</div>"
      ],
      "text/plain": [
       "                                 Id  Subject Focus  Eyes  Face  Near  Action  \\\n",
       "0  0007de18844b0dbbb5e1f607da0606e0              0     1     1     1       0   \n",
       "1  0009c66b9439883ba2750fb825e1d7db              0     1     1     0       0   \n",
       "2  0013fd999caf9a3efe1352ca1b0d937e              0     1     1     1       0   \n",
       "3  0018df346ac9c1d8413cfcc888ca8246              0     1     1     1       0   \n",
       "4  001dc955e10590d3ca4673f034feeef2              0     0     0     1       0   \n",
       "\n",
       "   Accessory  Group  Collage  Human  Occlusion  Info  Blur  Pawpularity  \n",
       "0          0      1        0      0          0     0     0           63  \n",
       "1          0      0        0      0          0     0     0           42  \n",
       "2          0      0        0      1          1     0     0           28  \n",
       "3          0      0        0      0          0     0     0           15  \n",
       "4          0      1        0      0          0     0     0           72  "
      ]
     },
     "execution_count": 2,
     "metadata": {},
     "output_type": "execute_result"
    }
   ],
   "source": [
    "# load data into DataFrame object\n",
    "df = pd.read_csv('data/train.csv')\n",
    "\n",
    "# preview DataFrame\n",
    "df.head(5)"
   ]
  },
  {
   "cell_type": "code",
   "execution_count": 3,
   "metadata": {},
   "outputs": [
    {
     "name": "stdout",
     "output_type": "stream",
     "text": [
      "<class 'pandas.core.frame.DataFrame'>\n",
      "RangeIndex: 9912 entries, 0 to 9911\n",
      "Data columns (total 14 columns):\n",
      " #   Column         Non-Null Count  Dtype \n",
      "---  ------         --------------  ----- \n",
      " 0   Id             9912 non-null   object\n",
      " 1   Subject Focus  9912 non-null   int64 \n",
      " 2   Eyes           9912 non-null   int64 \n",
      " 3   Face           9912 non-null   int64 \n",
      " 4   Near           9912 non-null   int64 \n",
      " 5   Action         9912 non-null   int64 \n",
      " 6   Accessory      9912 non-null   int64 \n",
      " 7   Group          9912 non-null   int64 \n",
      " 8   Collage        9912 non-null   int64 \n",
      " 9   Human          9912 non-null   int64 \n",
      " 10  Occlusion      9912 non-null   int64 \n",
      " 11  Info           9912 non-null   int64 \n",
      " 12  Blur           9912 non-null   int64 \n",
      " 13  Pawpularity    9912 non-null   int64 \n",
      "dtypes: int64(13), object(1)\n",
      "memory usage: 1.1+ MB\n"
     ]
    }
   ],
   "source": [
    "# get info per feature in df\n",
    "df.info()"
   ]
  },
  {
   "cell_type": "markdown",
   "metadata": {},
   "source": [
    "Our dataset consists of 13 features and 1 target. For the sake of clarity, we will enumerate each feature and what it represents:\n",
    "<ol>\n",
    "    <u>Feature Columns</u>\n",
    "    <li><b>Id</b> - the .jpg file name of the associated image located in the data/train folder.</li>\n",
    "    <li><b>Subject Focus</b> - Pet stands out against uncluttered background, not too close / far.</li>\n",
    "    <li><b>Eyes</b> - Both eyes are facing front or near-front, with at least 1 eye / pupil decently clear.</li>\n",
    "    <li><b>Face</b> - Decently clear face, facing front or near-front.</li>\n",
    "    <li><b>Near</b> - Single pet taking up significant portion of photo (roughly over 50% of photo width or height).</li>\n",
    "    <li><b>Action</b> - Pet in the middle of an action (e.g., jumping).</li>\n",
    "    <li><b>Accessory</b> - Accompanying physical or digital accessory / prop (i.e. toy, digital sticker), excluding collar and leash.</li>\n",
    "    <li><b>Group</b> - More than 1 pet in the photo.</li>\n",
    "    <li><b>Collage</b> - Digitally-retouched photo (i.e. with digital photo frame, combination of multiple photos).</li>\n",
    "    <li><b>Human</b> - Human in the photo.</li>\n",
    "    <li><b>Occlusion</b></b> - Specific undesirable objects blocking part of the pet (i.e. human, cage or fence). Note that not all blocking objects are considered undesirable.</li>\n",
    "    <li><b>Info</b> - Custom-added text or labels (i.e. pet name, description).</li>\n",
    "    <li><b>Blur</b> - Noticeably out of focus or noisy, especially for the pet’s eyes and face. For Blur entries, “Eyes” column is always set to 0.</li>\n",
    "</ol>\n",
    "\n",
    "Note also, that all of our features are one-hot style. \n",
    "\n",
    "<ol><u>Target Column</u>\n",
    "    <li><b>Pawpularity</b> - The Pawpularity Score is derived from each pet profile's page view statistics at the listing pages, using an algorithm that normalizes the traffic data across different pages, platforms (web & mobile) and various metrics. Duplicate clicks, crawler bot accesses and sponsored profiles are excluded from the analysis. </li>\n",
    "</ol>\n",
    "\n",
    "Note that our target is an integer between 0 and 100. "
   ]
  },
  {
   "cell_type": "markdown",
   "metadata": {},
   "source": [
    "Additionally, it appears that we are not missing any values, which is always a huge win! Let's take a look at the properties of the columns."
   ]
  },
  {
   "cell_type": "code",
   "execution_count": 4,
   "metadata": {},
   "outputs": [],
   "source": [
    "# break df into data and target\n",
    "data = df.drop(['Pawpularity'], axis=1)\n",
    "target = df['Pawpularity']"
   ]
  },
  {
   "cell_type": "code",
   "execution_count": 5,
   "metadata": {
    "scrolled": false
   },
   "outputs": [
    {
     "data": {
      "image/png": "[encoded data removed]",
      "text/plain": [
       "<Figure size 576x576 with 2 Axes>"
      ]
     },
     "metadata": {
      "needs_background": "light"
     },
     "output_type": "display_data"
    }
   ],
   "source": [
    "# plot heatmap of data per index for relationship insights\n",
    "plt.figure(figsize=(8,8))\n",
    "sns.heatmap(pd.concat([data.drop('Id', axis=1), target/100], axis=1));\n",
    "plt.title('Examining Relationships between Features', fontsize=16);\n",
    "plt.xlabel('Index');\n",
    "plt.ylabel('Feature');\n",
    "plt.show();"
   ]
  },
  {
   "cell_type": "markdown",
   "metadata": {},
   "source": [
    "There are no visually discernible patterns between feature expressions/combinations and target values. "
   ]
  },
  {
   "cell_type": "code",
   "execution_count": 6,
   "metadata": {
    "scrolled": false
   },
   "outputs": [
    {
     "data": {
      "image/png": "[encoded data removed]",
      "text/plain": [
       "<Figure size 720x720 with 2 Axes>"
      ]
     },
     "metadata": {
      "needs_background": "light"
     },
     "output_type": "display_data"
    }
   ],
   "source": [
    "# plot heatmap of data\n",
    "plt.figure(figsize=(10,10))\n",
    "sns.heatmap(round(df.corr(), 2), annot=True);\n",
    "plt.title('Heat Map of Data', fontsize=16);"
   ]
  },
  {
   "cell_type": "markdown",
   "metadata": {},
   "source": [
    "It also looks as though multicollinearity will not be a huge issue with our data. But if we do run into model complexity / overfitting due to high variance issues further down the line, we should remember the few feature correlations that stand apart from the rest for tuning purposes:\n",
    "\n",
    "- Face and Eyes\n",
    "- Human and Occlusion\n",
    "- Collage and Info\n",
    "- Blur and Eyes\n",
    "\n",
    "Since the Eyes-feature is highly correlated with two other features, we might consider dropping it as opposed to dropping the Face- and Blur-features. But it would be beneficial to test all the different cases at our disposal for insurance purposes.\n",
    "\n",
    "Also, the feature correlations with our target variable are devestatingly low, thus we might expect this process to be a bit more tedious / better estimated by a complex model. "
   ]
  },
  {
   "cell_type": "code",
   "execution_count": 8,
   "metadata": {
    "scrolled": true
   },
   "outputs": [
    {
     "data": {
      "text/plain": [
       "Subject Focus    0.027643\n",
       "Eyes             0.772599\n",
       "Face             0.903955\n",
       "Near             0.861582\n",
       "Action           0.009988\n",
       "Accessory        0.067797\n",
       "Group            0.129338\n",
       "Collage          0.049637\n",
       "Human            0.166263\n",
       "Occlusion        0.172014\n",
       "Info             0.061239\n",
       "Blur             0.070420\n",
       "dtype: float64"
      ]
     },
     "execution_count": 8,
     "metadata": {},
     "output_type": "execute_result"
    }
   ],
   "source": [
    "# check sparsity of feature columns\n",
    "data.drop('Id', axis=1).mean()"
   ]
  },
  {
   "cell_type": "markdown",
   "metadata": {},
   "source": [
    "Looking at the means of each feature, we can tell that there some of the features are severely sparsely populated while others are very densely populated. None are relatively evenly populated. "
   ]
  },
  {
   "cell_type": "code",
   "execution_count": 9,
   "metadata": {
    "scrolled": true
   },
   "outputs": [
    {
     "data": {
      "image/png": "[encoded data removed]",
      "text/plain": [
       "<Figure size 432x288 with 1 Axes>"
      ]
     },
     "metadata": {
      "needs_background": "light"
     },
     "output_type": "display_data"
    },
    {
     "data": {
      "image/png": "[encoded data removed]",
      "text/plain": [
       "<Figure size 432x288 with 1 Axes>"
      ]
     },
     "metadata": {
      "needs_background": "light"
     },
     "output_type": "display_data"
    },
    {
     "data": {
      "image/png": "[encoded data removed]",
      "text/plain": [
       "<Figure size 432x288 with 1 Axes>"
      ]
     },
     "metadata": {
      "needs_background": "light"
     },
     "output_type": "display_data"
    },
    {
     "data": {
      "image/png": "[encoded data removed]",
      "text/plain": [
       "<Figure size 432x288 with 1 Axes>"
      ]
     },
     "metadata": {
      "needs_background": "light"
     },
     "output_type": "display_data"
    },
    {
     "data": {
      "image/png": "[encoded data removed]",
      "text/plain": [
       "<Figure size 432x288 with 1 Axes>"
      ]
     },
     "metadata": {
      "needs_background": "light"
     },
     "output_type": "display_data"
    },
    {
     "data": {
      "image/png": "[encoded data removed]",
      "text/plain": [
       "<Figure size 432x288 with 1 Axes>"
      ]
     },
     "metadata": {
      "needs_background": "light"
     },
     "output_type": "display_data"
    },
    {
     "data": {
      "image/png": "[encoded data removed]",
      "text/plain": [
       "<Figure size 432x288 with 1 Axes>"
      ]
     },
     "metadata": {
      "needs_background": "light"
     },
     "output_type": "display_data"
    },
    {
     "data": {
      "image/png": "[encoded data removed]",
      "text/plain": [
       "<Figure size 432x288 with 1 Axes>"
      ]
     },
     "metadata": {
      "needs_background": "light"
     },
     "output_type": "display_data"
    },
    {
     "data": {
      "image/png": "[encoded data removed]",
      "text/plain": [
       "<Figure size 432x288 with 1 Axes>"
      ]
     },
     "metadata": {
      "needs_background": "light"
     },
     "output_type": "display_data"
    },
    {
     "data": {
      "image/png": "[encoded data removed]",
      "text/plain": [
       "<Figure size 432x288 with 1 Axes>"
      ]
     },
     "metadata": {
      "needs_background": "light"
     },
     "output_type": "display_data"
    },
    {
     "data": {
      "image/png": "[encoded data removed]",
      "text/plain": [
       "<Figure size 432x288 with 1 Axes>"
      ]
     },
     "metadata": {
      "needs_background": "light"
     },
     "output_type": "display_data"
    },
    {
     "data": {
      "image/png": "[encoded data removed]",
      "text/plain": [
       "<Figure size 432x288 with 1 Axes>"
      ]
     },
     "metadata": {
      "needs_background": "light"
     },
     "output_type": "display_data"
    }
   ],
   "source": [
    "# plot feature vs. target distributions\n",
    "for col in data.drop('Id', axis=1).columns:\n",
    "    plt.figure()\n",
    "    plt.title(str(col), fontsize=16)\n",
    "    plt.xlabel('Pawpularity')\n",
    "    plt.ylabel('Value')\n",
    "    plt.plot(target, data[col], '.')"
   ]
  },
  {
   "cell_type": "markdown",
   "metadata": {},
   "source": [
    "As we might have expected from the heat map, the plots do not indicate that there exists a strong relationship between the value of any given feature and the target pawpularity score. "
   ]
  },
  {
   "cell_type": "markdown",
   "metadata": {},
   "source": [
    "Let's take a look at the target variable, pawpularity score. "
   ]
  },
  {
   "cell_type": "code",
   "execution_count": 10,
   "metadata": {},
   "outputs": [
    {
     "data": {
      "text/plain": [
       "count    9912.000000\n",
       "mean       38.039044\n",
       "std        20.591990\n",
       "min         1.000000\n",
       "25%        25.000000\n",
       "50%        33.000000\n",
       "75%        46.000000\n",
       "max       100.000000\n",
       "Name: Pawpularity, dtype: float64"
      ]
     },
     "execution_count": 10,
     "metadata": {},
     "output_type": "execute_result"
    }
   ],
   "source": [
    "# check descriptive statistics of target\n",
    "target.describe()"
   ]
  },
  {
   "cell_type": "code",
   "execution_count": 11,
   "metadata": {
    "scrolled": false
   },
   "outputs": [
    {
     "data": {
      "image/png": "[encoded data removed]",
      "text/plain": [
       "<Figure size 864x432 with 1 Axes>"
      ]
     },
     "metadata": {
      "needs_background": "light"
     },
     "output_type": "display_data"
    }
   ],
   "source": [
    "# plot histogram of target data\n",
    "plt.figure(figsize=(12,6));\n",
    "target.hist(bins=100);\n",
    "plt.title('Histogram of Pawpularity Scores', fontsize=16);\n",
    "plt.xlabel('Pawpularity Score');\n",
    "plt.ylabel('Value Counts');"
   ]
  },
  {
   "cell_type": "code",
   "execution_count": 12,
   "metadata": {
    "scrolled": false
   },
   "outputs": [
    {
     "data": {
      "image/png": "[encoded data removed]",
      "text/plain": [
       "<Figure size 864x432 with 1 Axes>"
      ]
     },
     "metadata": {
      "needs_background": "light"
     },
     "output_type": "display_data"
    }
   ],
   "source": [
    "# plot boxplot of target data\n",
    "plt.figure(figsize=(12,6));\n",
    "sns.boxplot(target);\n",
    "plt.title('Pawpularity Score Boxplot', fontsize=16);\n",
    "plt.xlabel('Score');"
   ]
  },
  {
   "cell_type": "markdown",
   "metadata": {},
   "source": [
    "It appears as though we are dealing with a relatively normally distributed target variable, which is always great news. Since the distribution is skewed right, we might consider applying a square root or log transform in order to achieve a higher degree of normality. As we might have expected from the heavy right-tail of histogram, our target data contains several outlier values in the range of higher values. It might benefit us to take a look at the outlier distribution as well. If time permits, there could be value in exploring a calssifier model that can predict where the sample is an outlier. In the meantime, let's take a look at our outlier-valued samples. "
   ]
  },
  {
   "cell_type": "code",
   "execution_count": 13,
   "metadata": {},
   "outputs": [
    {
     "name": "stdout",
     "output_type": "stream",
     "text": [
      "The stop value of the upper quartile is: 77.5\n"
     ]
    },
    {
     "data": {
      "image/png": "[encoded data removed]",
      "text/plain": [
       "<Figure size 864x432 with 1 Axes>"
      ]
     },
     "metadata": {
      "needs_background": "light"
     },
     "output_type": "display_data"
    },
    {
     "name": "stdout",
     "output_type": "stream",
     "text": [
      "Value Counts Per Pawpularity Score:\n",
      "- - - - - - - - - - - - - - - - - -\n",
      "78      22\n",
      "79      24\n",
      "80      17\n",
      "81      27\n",
      "82      14\n",
      "83      24\n",
      "84      18\n",
      "85      16\n",
      "86      14\n",
      "87      19\n",
      "88      21\n",
      "89      13\n",
      "90       7\n",
      "91      15\n",
      "92      14\n",
      "93      13\n",
      "94      13\n",
      "95      11\n",
      "96      12\n",
      "97       8\n",
      "98      10\n",
      "99       4\n",
      "100    288\n",
      "Name: Pawpularity, dtype: int64\n",
      "\n",
      "Total Number of Outliers: 624\n"
     ]
    }
   ],
   "source": [
    "# find interquartile range\n",
    "q1 = target.quantile(.25)\n",
    "q3 = target.quantile(.75)\n",
    "iqr = q3 - q1\n",
    "\n",
    "# compute high stop-value; we don't need to worry about the low stop-value \n",
    "# because, according to our boxplot, there are no low-valued outliers\n",
    "stop_high = q3 + 1.5*iqr\n",
    "print('The stop value of the upper quartile is: ' + str(stop_high))\n",
    "\n",
    "# get distribution of outliers in our dataset\n",
    "plt.figure(figsize=(12,6));\n",
    "target[target > stop_high].hist(bins=22);\n",
    "plt.title('Histogram of Outliers in Target', fontsize=16);\n",
    "plt.xlabel('Pawpularity Score');\n",
    "plt.ylabel('Values Count');\n",
    "plt.show();\n",
    "\n",
    "# print out pawpularity score value counts for each outlier score\n",
    "print('Value Counts Per Pawpularity Score:')\n",
    "print('- - - - - - - - - - - - - - - - - -')\n",
    "print(target[target > stop_high].value_counts().sort_index())\n",
    "print()\n",
    "\n",
    "# print out total number of outliers\n",
    "num_outliers = target[target > stop_high].value_counts().sum()\n",
    "print('Total Number of Outliers: ' + str(num_outliers))"
   ]
  },
  {
   "cell_type": "markdown",
   "metadata": {},
   "source": [
    "Our outliers are uniformly distributed, except for at 100, where we have 288 values. Again, we might take a closer look at how we incorporate our ouliers in training later on in the modeling process if we don't achieve the level of performance that we are aiming for. But because there are so many 100-valued samples (as well as others, appx. 6% of our dataset), we cannot simply disregard them; again, it might be worth it to revisit the concept of creating a classification model designed to detect outliers, or 100-valued targets. "
   ]
  },
  {
   "cell_type": "markdown",
   "metadata": {},
   "source": [
    "### Metadata Classification Datasets"
   ]
  },
  {
   "cell_type": "markdown",
   "metadata": {},
   "source": [
    "We might be interested in trying to approach this from a classification angle. There's the chance that a classification model would do better than a regression model - the only way to know is to find out. We will explore this approach by creating datasets that delineate classes in various increments of Pawpularity. This will be more clear in the code to follow. "
   ]
  },
  {
   "cell_type": "code",
   "execution_count": 14,
   "metadata": {},
   "outputs": [],
   "source": [
    "# function that makes n_classes of evenly distributed classes, \n",
    "# with the labels as the median of each bin range. \n",
    "def make_classes(df, n_classes, target_col='Pawpularity', agg_func=None):\n",
    "    \n",
    "    df = df.copy()\n",
    "    \n",
    "    bins = []\n",
    "    labels = []\n",
    "    \n",
    "    # PAY ATTENTION TO THIS LINE, the -1 could be changed\n",
    "    bins.append(df[target_col].min() - 1)\n",
    "    \n",
    "    for i in range(1, n_classes):\n",
    "        \n",
    "        q = round(i / n_classes, 2)\n",
    "        bins.append(df[target_col].quantile(q))\n",
    "        \n",
    "    # PAY ATTENTION TO THIS LINE, the +1 could be changed\n",
    "    bins.append(df[target_col].max() + 1)\n",
    "    \n",
    "    for i in range(len(bins) - 1):\n",
    "        \n",
    "        df_slice = (df[(df[target_col] >= bins[i]) & \n",
    "                       (df[target_col] < bins[i+1])])\n",
    "        \n",
    "        slice_median = df_slice[target_col].median()\n",
    "        labels.append(slice_median)\n",
    "        \n",
    "    df[target_col] = pd.cut(df[target_col],\n",
    "                            bins=bins,\n",
    "                            labels=labels)\n",
    "    \n",
    "    print('Value counts of new classes: ')\n",
    "    print(df[target_col].value_counts().sort_index())\n",
    "    \n",
    "    return df"
   ]
  },
  {
   "cell_type": "markdown",
   "metadata": {},
   "source": [
    "Let's make some datasets now."
   ]
  },
  {
   "cell_type": "code",
   "execution_count": 16,
   "metadata": {},
   "outputs": [
    {
     "name": "stdout",
     "output_type": "stream",
     "text": [
      "Value counts of new classes: \n",
      "25.0    5038\n",
      "46.0    4874\n",
      "Name: Pawpularity, dtype: int64\n"
     ]
    }
   ],
   "source": [
    "# make 2-class dataset\n",
    "df_2class = make_classes(df_clf, 2)"
   ]
  },
  {
   "cell_type": "code",
   "execution_count": 17,
   "metadata": {
    "scrolled": true
   },
   "outputs": [
    {
     "name": "stdout",
     "output_type": "stream",
     "text": [
      "Value counts of new classes: \n",
      "22.0    3574\n",
      "33.0    3143\n",
      "55.0    3195\n",
      "Name: Pawpularity, dtype: int64\n"
     ]
    }
   ],
   "source": [
    "# make 3-class dataset\n",
    "df_3class = make_classes(df_clf, 3)"
   ]
  },
  {
   "cell_type": "code",
   "execution_count": 18,
   "metadata": {},
   "outputs": [
    {
     "name": "stdout",
     "output_type": "stream",
     "text": [
      "Value counts of new classes: \n",
      "19.0    2638\n",
      "29.0    2400\n",
      "38.0    2401\n",
      "60.0    2473\n",
      "Name: Pawpularity, dtype: int64\n"
     ]
    }
   ],
   "source": [
    "# make 4-class dataset\n",
    "df_4class = make_classes(df_clf, 4)"
   ]
  },
  {
   "cell_type": "code",
   "execution_count": 19,
   "metadata": {
    "scrolled": false
   },
   "outputs": [
    {
     "name": "stdout",
     "output_type": "stream",
     "text": [
      "Value counts of new classes: \n",
      "17.0    2098\n",
      "26.0    2098\n",
      "33.0    1790\n",
      "42.0    1995\n",
      "66.0    1931\n",
      "Name: Pawpularity, dtype: int64\n"
     ]
    }
   ],
   "source": [
    "# make 5-class dataset\n",
    "df_5class = make_classes(df_clf, 5)"
   ]
  },
  {
   "cell_type": "markdown",
   "metadata": {},
   "source": [
    "For now, we will consider these new DataFrames sufficient. We decided to constuct our make_classes function in such a way to produce evenly balanced classes, but there are several other considerations to be had with respect to the classes to be produced: what if we used a different aggregation function to specify our bins? What if we evenly spaced our class labels (i.e. 25, 50, 75 for a 3-class df)? If necessary and time permits, we can revisit our strategy here to see if there is a better fit. "
   ]
  },
  {
   "cell_type": "markdown",
   "metadata": {},
   "source": [
    "### Images Dataset"
   ]
  },
  {
   "cell_type": "markdown",
   "metadata": {},
   "source": [
    "We will now take a close look at the accompanying images dataset. "
   ]
  },
  {
   "cell_type": "code",
   "execution_count": 20,
   "metadata": {},
   "outputs": [],
   "source": [
    "# import necessary modules\n",
    "from keras.preprocessing.image import ImageDataGenerator, array_to_img, img_to_array, load_img\n",
    "import numpy as np\n",
    "import os"
   ]
  },
  {
   "cell_type": "code",
   "execution_count": 21,
   "metadata": {},
   "outputs": [
    {
     "name": "stdout",
     "output_type": "stream",
     "text": [
      "Found 9912 images belonging to 1 classes.\n"
     ]
    }
   ],
   "source": [
    "# load images into workspace drom directory\n",
    "train_generator = ImageDataGenerator().flow_from_directory(directory='data/',\n",
    "                                                           shuffle=False,        # load images in alphanumerical order\n",
    "                                                           target_size=(64,64), \n",
    "                                                           classes=['train'],\n",
    "                                                           batch_size=9912)\n",
    "\n",
    "# save images as RGB arrays\n",
    "data_images = train_generator[0][0]"
   ]
  },
  {
   "cell_type": "code",
   "execution_count": 22,
   "metadata": {},
   "outputs": [
    {
     "data": {
      "text/plain": [
       "(9912, 64, 64, 3)"
      ]
     },
     "execution_count": 22,
     "metadata": {},
     "output_type": "execute_result"
    }
   ],
   "source": [
    "# check dataset shape\n",
    "data_images.shape"
   ]
  },
  {
   "cell_type": "code",
   "execution_count": 23,
   "metadata": {
    "scrolled": true
   },
   "outputs": [
    {
     "data": {
      "image/png": "[encoded data removed]",
      "text/plain": [
       "<PIL.Image.Image image mode=RGB size=64x64 at 0x7FFCF8C80460>"
      ]
     },
     "execution_count": 23,
     "metadata": {},
     "output_type": "execute_result"
    }
   ],
   "source": [
    "# preview first image\n",
    "array_to_img(data_images[0])"
   ]
  },
  {
   "cell_type": "code",
   "execution_count": 24,
   "metadata": {},
   "outputs": [
    {
     "data": {
      "image/png": "[encoded data removed]",
      "text/plain": [
       "<PIL.Image.Image image mode=RGB size=64x64 at 0x7FFCA97ABC10>"
      ]
     },
     "execution_count": 24,
     "metadata": {},
     "output_type": "execute_result"
    }
   ],
   "source": [
    "# preview last image\n",
    "array_to_img(data_images[9911])"
   ]
  },
  {
   "cell_type": "markdown",
   "metadata": {},
   "source": [
    "Great, so it looks as though everything is working properly. It should be noted that the order of the images is the same as the order of the Id column of the meta-data dataset. This means that we do not have to reorganize our target column to match the images dataset. If we use keras or another neural net library, we likely do not need to restructure our images. But since we could possibly benefit from the usage of a structured, pixel-by-pixel dataset, we should explore that as well. "
   ]
  },
  {
   "cell_type": "markdown",
   "metadata": {},
   "source": [
    "There could potentially be some value in organizing our images dataset in such a way as to make it useful to a simpler, non-ANN model. Furthermore, we could also test to see if its possible that we could use the image data as features and the image metadata as targets, attempting to create a classifier capable of detecting image metadata accurately. Let's go ahead and make our semi-structured image dataset. "
   ]
  },
  {
   "cell_type": "code",
   "execution_count": 25,
   "metadata": {},
   "outputs": [],
   "source": [
    "# reshape data for DataFrame\n",
    "img_data_reshaped = data_images.reshape(data_images.shape[0], -1)"
   ]
  },
  {
   "cell_type": "code",
   "execution_count": 26,
   "metadata": {},
   "outputs": [],
   "source": [
    "# create columns for DataFrame\n",
    "img_r_cols = [str(i+1) + '_r' for i in range(img_data_reshaped.shape[1])]\n",
    "img_g_cols = [str(i+1) + '_g' for i in range(img_data_reshaped.shape[1])]\n",
    "img_b_cols = [str(i+1) + '_b' for i in range(img_data_reshaped.shape[1])]\n",
    "\n",
    "# create column names for new DataFrame object\n",
    "img_col_names = []\n",
    "\n",
    "for i in range(int(img_data_reshaped.shape[1] / 3)):\n",
    "    \n",
    "    img_col_names.append(img_r_cols[i])\n",
    "    img_col_names.append(img_g_cols[i])\n",
    "    img_col_names.append(img_b_cols[i])"
   ]
  },
  {
   "cell_type": "code",
   "execution_count": 27,
   "metadata": {},
   "outputs": [],
   "source": [
    "# create DataFrame, normalizing each value to be between 0 and 2\n",
    "img_df = pd.DataFrame(data=img_data_reshaped / 255, columns=img_col_names)"
   ]
  },
  {
   "cell_type": "code",
   "execution_count": 28,
   "metadata": {
    "scrolled": true
   },
   "outputs": [
    {
     "data": {
      "text/html": [
       "<div>\n",
       "<style scoped>\n",
       "    .dataframe tbody tr th:only-of-type {\n",
       "        vertical-align: middle;\n",
       "    }\n",
       "\n",
       "    .dataframe tbody tr th {\n",
       "        vertical-align: top;\n",
       "    }\n",
       "\n",
       "    .dataframe thead th {\n",
       "        text-align: right;\n",
       "    }\n",
       "</style>\n",
       "<table border=\"1\" class=\"dataframe\">\n",
       "  <thead>\n",
       "    <tr style=\"text-align: right;\">\n",
       "      <th></th>\n",
       "      <th>1_r</th>\n",
       "      <th>1_g</th>\n",
       "      <th>1_b</th>\n",
       "      <th>2_r</th>\n",
       "      <th>2_g</th>\n",
       "      <th>2_b</th>\n",
       "      <th>3_r</th>\n",
       "      <th>3_g</th>\n",
       "      <th>3_b</th>\n",
       "      <th>4_r</th>\n",
       "      <th>...</th>\n",
       "      <th>4093_b</th>\n",
       "      <th>4094_r</th>\n",
       "      <th>4094_g</th>\n",
       "      <th>4094_b</th>\n",
       "      <th>4095_r</th>\n",
       "      <th>4095_g</th>\n",
       "      <th>4095_b</th>\n",
       "      <th>4096_r</th>\n",
       "      <th>4096_g</th>\n",
       "      <th>4096_b</th>\n",
       "    </tr>\n",
       "  </thead>\n",
       "  <tbody>\n",
       "    <tr>\n",
       "      <th>0</th>\n",
       "      <td>0.701961</td>\n",
       "      <td>0.686275</td>\n",
       "      <td>0.741176</td>\n",
       "      <td>0.643137</td>\n",
       "      <td>0.627451</td>\n",
       "      <td>0.682353</td>\n",
       "      <td>0.729412</td>\n",
       "      <td>0.713726</td>\n",
       "      <td>0.768627</td>\n",
       "      <td>0.725490</td>\n",
       "      <td>...</td>\n",
       "      <td>0.682353</td>\n",
       "      <td>0.639216</td>\n",
       "      <td>0.635294</td>\n",
       "      <td>0.619608</td>\n",
       "      <td>0.780392</td>\n",
       "      <td>0.776471</td>\n",
       "      <td>0.760784</td>\n",
       "      <td>0.752941</td>\n",
       "      <td>0.749020</td>\n",
       "      <td>0.733333</td>\n",
       "    </tr>\n",
       "    <tr>\n",
       "      <th>1</th>\n",
       "      <td>0.556863</td>\n",
       "      <td>0.545098</td>\n",
       "      <td>0.572549</td>\n",
       "      <td>0.505882</td>\n",
       "      <td>0.494118</td>\n",
       "      <td>0.521569</td>\n",
       "      <td>0.466667</td>\n",
       "      <td>0.454902</td>\n",
       "      <td>0.482353</td>\n",
       "      <td>0.454902</td>\n",
       "      <td>...</td>\n",
       "      <td>0.368627</td>\n",
       "      <td>0.560784</td>\n",
       "      <td>0.482353</td>\n",
       "      <td>0.384314</td>\n",
       "      <td>0.584314</td>\n",
       "      <td>0.490196</td>\n",
       "      <td>0.388235</td>\n",
       "      <td>0.607843</td>\n",
       "      <td>0.505882</td>\n",
       "      <td>0.415686</td>\n",
       "    </tr>\n",
       "    <tr>\n",
       "      <th>2</th>\n",
       "      <td>0.678431</td>\n",
       "      <td>0.662745</td>\n",
       "      <td>0.517647</td>\n",
       "      <td>0.690196</td>\n",
       "      <td>0.674510</td>\n",
       "      <td>0.529412</td>\n",
       "      <td>0.682353</td>\n",
       "      <td>0.666667</td>\n",
       "      <td>0.521569</td>\n",
       "      <td>0.701961</td>\n",
       "      <td>...</td>\n",
       "      <td>0.419608</td>\n",
       "      <td>0.105882</td>\n",
       "      <td>0.411765</td>\n",
       "      <td>0.427451</td>\n",
       "      <td>0.321569</td>\n",
       "      <td>0.627451</td>\n",
       "      <td>0.643137</td>\n",
       "      <td>0.109804</td>\n",
       "      <td>0.400000</td>\n",
       "      <td>0.411765</td>\n",
       "    </tr>\n",
       "    <tr>\n",
       "      <th>3</th>\n",
       "      <td>0.847059</td>\n",
       "      <td>0.878431</td>\n",
       "      <td>0.890196</td>\n",
       "      <td>0.850980</td>\n",
       "      <td>0.882353</td>\n",
       "      <td>0.894118</td>\n",
       "      <td>0.850980</td>\n",
       "      <td>0.882353</td>\n",
       "      <td>0.894118</td>\n",
       "      <td>0.866667</td>\n",
       "      <td>...</td>\n",
       "      <td>0.537255</td>\n",
       "      <td>0.607843</td>\n",
       "      <td>0.611765</td>\n",
       "      <td>0.592157</td>\n",
       "      <td>0.623529</td>\n",
       "      <td>0.627451</td>\n",
       "      <td>0.596078</td>\n",
       "      <td>0.560784</td>\n",
       "      <td>0.549020</td>\n",
       "      <td>0.521569</td>\n",
       "    </tr>\n",
       "    <tr>\n",
       "      <th>4</th>\n",
       "      <td>0.219608</td>\n",
       "      <td>0.239216</td>\n",
       "      <td>0.250980</td>\n",
       "      <td>0.223529</td>\n",
       "      <td>0.223529</td>\n",
       "      <td>0.215686</td>\n",
       "      <td>0.674510</td>\n",
       "      <td>0.658824</td>\n",
       "      <td>0.654902</td>\n",
       "      <td>0.423529</td>\n",
       "      <td>...</td>\n",
       "      <td>0.878431</td>\n",
       "      <td>0.996078</td>\n",
       "      <td>1.000000</td>\n",
       "      <td>1.000000</td>\n",
       "      <td>0.890196</td>\n",
       "      <td>0.894118</td>\n",
       "      <td>0.909804</td>\n",
       "      <td>0.913725</td>\n",
       "      <td>0.925490</td>\n",
       "      <td>0.945098</td>\n",
       "    </tr>\n",
       "  </tbody>\n",
       "</table>\n",
       "<p>5 rows × 12288 columns</p>\n",
       "</div>"
      ],
      "text/plain": [
       "        1_r       1_g       1_b       2_r       2_g       2_b       3_r  \\\n",
       "0  0.701961  0.686275  0.741176  0.643137  0.627451  0.682353  0.729412   \n",
       "1  0.556863  0.545098  0.572549  0.505882  0.494118  0.521569  0.466667   \n",
       "2  0.678431  0.662745  0.517647  0.690196  0.674510  0.529412  0.682353   \n",
       "3  0.847059  0.878431  0.890196  0.850980  0.882353  0.894118  0.850980   \n",
       "4  0.219608  0.239216  0.250980  0.223529  0.223529  0.215686  0.674510   \n",
       "\n",
       "        3_g       3_b       4_r  ...    4093_b    4094_r    4094_g    4094_b  \\\n",
       "0  0.713726  0.768627  0.725490  ...  0.682353  0.639216  0.635294  0.619608   \n",
       "1  0.454902  0.482353  0.454902  ...  0.368627  0.560784  0.482353  0.384314   \n",
       "2  0.666667  0.521569  0.701961  ...  0.419608  0.105882  0.411765  0.427451   \n",
       "3  0.882353  0.894118  0.866667  ...  0.537255  0.607843  0.611765  0.592157   \n",
       "4  0.658824  0.654902  0.423529  ...  0.878431  0.996078  1.000000  1.000000   \n",
       "\n",
       "     4095_r    4095_g    4095_b    4096_r    4096_g    4096_b  \n",
       "0  0.780392  0.776471  0.760784  0.752941  0.749020  0.733333  \n",
       "1  0.584314  0.490196  0.388235  0.607843  0.505882  0.415686  \n",
       "2  0.321569  0.627451  0.643137  0.109804  0.400000  0.411765  \n",
       "3  0.623529  0.627451  0.596078  0.560784  0.549020  0.521569  \n",
       "4  0.890196  0.894118  0.909804  0.913725  0.925490  0.945098  \n",
       "\n",
       "[5 rows x 12288 columns]"
      ]
     },
     "execution_count": 28,
     "metadata": {},
     "output_type": "execute_result"
    }
   ],
   "source": [
    "# preview DataFrame to ensure job done\n",
    "img_df.head()"
   ]
  },
  {
   "cell_type": "markdown",
   "metadata": {},
   "source": [
    "Finally, it could potentially be useful to analyse each color from the dataset. Let's make three distinct datasets, each corresponding to a different color."
   ]
  },
  {
   "cell_type": "code",
   "execution_count": 40,
   "metadata": {},
   "outputs": [],
   "source": [
    "# make individual datasets for each color\n",
    "img_red_df = img_df.iloc[:, np.arange(0,img_df.shape[1],3)]\n",
    "img_green_df = img_df.iloc[:, np.arange(1,img_df.shape[1],3)]\n",
    "img_blue_df = img_df.iloc[:, np.arange(2,img_df.shape[1],3)]"
   ]
  },
  {
   "cell_type": "code",
   "execution_count": 49,
   "metadata": {},
   "outputs": [],
   "source": [
    "# make new column names\n",
    "col_names = ['p' + str(i) for i in range(1, 4097)]"
   ]
  },
  {
   "cell_type": "code",
   "execution_count": 54,
   "metadata": {},
   "outputs": [],
   "source": [
    "# rename columns\n",
    "img_red_df.columns = col_names\n",
    "img_green_df.columns = col_names\n",
    "img_blue_df.columns = col_names"
   ]
  },
  {
   "cell_type": "code",
   "execution_count": 52,
   "metadata": {},
   "outputs": [
    {
     "data": {
      "text/html": [
       "<div>\n",
       "<style scoped>\n",
       "    .dataframe tbody tr th:only-of-type {\n",
       "        vertical-align: middle;\n",
       "    }\n",
       "\n",
       "    .dataframe tbody tr th {\n",
       "        vertical-align: top;\n",
       "    }\n",
       "\n",
       "    .dataframe thead th {\n",
       "        text-align: right;\n",
       "    }\n",
       "</style>\n",
       "<table border=\"1\" class=\"dataframe\">\n",
       "  <thead>\n",
       "    <tr style=\"text-align: right;\">\n",
       "      <th></th>\n",
       "      <th>p1</th>\n",
       "      <th>p2</th>\n",
       "      <th>p3</th>\n",
       "      <th>p4</th>\n",
       "      <th>p5</th>\n",
       "      <th>p6</th>\n",
       "      <th>p7</th>\n",
       "      <th>p8</th>\n",
       "      <th>p9</th>\n",
       "      <th>p10</th>\n",
       "      <th>...</th>\n",
       "      <th>p4087</th>\n",
       "      <th>p4088</th>\n",
       "      <th>p4089</th>\n",
       "      <th>p4090</th>\n",
       "      <th>p4091</th>\n",
       "      <th>p4092</th>\n",
       "      <th>p4093</th>\n",
       "      <th>p4094</th>\n",
       "      <th>p4095</th>\n",
       "      <th>p4096</th>\n",
       "    </tr>\n",
       "  </thead>\n",
       "  <tbody>\n",
       "    <tr>\n",
       "      <th>0</th>\n",
       "      <td>0.701961</td>\n",
       "      <td>0.643137</td>\n",
       "      <td>0.729412</td>\n",
       "      <td>0.725490</td>\n",
       "      <td>0.729412</td>\n",
       "      <td>0.701961</td>\n",
       "      <td>0.749020</td>\n",
       "      <td>0.737255</td>\n",
       "      <td>0.764706</td>\n",
       "      <td>0.721569</td>\n",
       "      <td>...</td>\n",
       "      <td>0.733333</td>\n",
       "      <td>0.682353</td>\n",
       "      <td>0.713726</td>\n",
       "      <td>0.745098</td>\n",
       "      <td>0.729412</td>\n",
       "      <td>0.807843</td>\n",
       "      <td>0.694118</td>\n",
       "      <td>0.639216</td>\n",
       "      <td>0.780392</td>\n",
       "      <td>0.752941</td>\n",
       "    </tr>\n",
       "    <tr>\n",
       "      <th>1</th>\n",
       "      <td>0.556863</td>\n",
       "      <td>0.505882</td>\n",
       "      <td>0.466667</td>\n",
       "      <td>0.454902</td>\n",
       "      <td>0.372549</td>\n",
       "      <td>0.239216</td>\n",
       "      <td>0.137255</td>\n",
       "      <td>0.113725</td>\n",
       "      <td>0.113725</td>\n",
       "      <td>0.101961</td>\n",
       "      <td>...</td>\n",
       "      <td>0.584314</td>\n",
       "      <td>0.572549</td>\n",
       "      <td>0.572549</td>\n",
       "      <td>0.568627</td>\n",
       "      <td>0.549020</td>\n",
       "      <td>0.545098</td>\n",
       "      <td>0.545098</td>\n",
       "      <td>0.560784</td>\n",
       "      <td>0.584314</td>\n",
       "      <td>0.607843</td>\n",
       "    </tr>\n",
       "    <tr>\n",
       "      <th>2</th>\n",
       "      <td>0.678431</td>\n",
       "      <td>0.690196</td>\n",
       "      <td>0.682353</td>\n",
       "      <td>0.701961</td>\n",
       "      <td>0.717647</td>\n",
       "      <td>0.705882</td>\n",
       "      <td>0.721569</td>\n",
       "      <td>0.725490</td>\n",
       "      <td>0.717647</td>\n",
       "      <td>0.709804</td>\n",
       "      <td>...</td>\n",
       "      <td>0.125490</td>\n",
       "      <td>0.329412</td>\n",
       "      <td>0.164706</td>\n",
       "      <td>0.137255</td>\n",
       "      <td>0.133333</td>\n",
       "      <td>0.160784</td>\n",
       "      <td>0.098039</td>\n",
       "      <td>0.105882</td>\n",
       "      <td>0.321569</td>\n",
       "      <td>0.109804</td>\n",
       "    </tr>\n",
       "    <tr>\n",
       "      <th>3</th>\n",
       "      <td>0.847059</td>\n",
       "      <td>0.850980</td>\n",
       "      <td>0.850980</td>\n",
       "      <td>0.866667</td>\n",
       "      <td>0.870588</td>\n",
       "      <td>0.870588</td>\n",
       "      <td>0.874510</td>\n",
       "      <td>0.878431</td>\n",
       "      <td>0.886275</td>\n",
       "      <td>0.878431</td>\n",
       "      <td>...</td>\n",
       "      <td>0.678431</td>\n",
       "      <td>0.458824</td>\n",
       "      <td>0.227451</td>\n",
       "      <td>0.270588</td>\n",
       "      <td>0.309804</td>\n",
       "      <td>0.388235</td>\n",
       "      <td>0.556863</td>\n",
       "      <td>0.607843</td>\n",
       "      <td>0.623529</td>\n",
       "      <td>0.560784</td>\n",
       "    </tr>\n",
       "    <tr>\n",
       "      <th>4</th>\n",
       "      <td>0.219608</td>\n",
       "      <td>0.223529</td>\n",
       "      <td>0.674510</td>\n",
       "      <td>0.423529</td>\n",
       "      <td>0.890196</td>\n",
       "      <td>0.513726</td>\n",
       "      <td>0.850980</td>\n",
       "      <td>0.784314</td>\n",
       "      <td>0.725490</td>\n",
       "      <td>0.666667</td>\n",
       "      <td>...</td>\n",
       "      <td>0.890196</td>\n",
       "      <td>0.909804</td>\n",
       "      <td>0.843137</td>\n",
       "      <td>0.929412</td>\n",
       "      <td>0.882353</td>\n",
       "      <td>0.960784</td>\n",
       "      <td>0.854902</td>\n",
       "      <td>0.996078</td>\n",
       "      <td>0.890196</td>\n",
       "      <td>0.913725</td>\n",
       "    </tr>\n",
       "  </tbody>\n",
       "</table>\n",
       "<p>5 rows × 4096 columns</p>\n",
       "</div>"
      ],
      "text/plain": [
       "         p1        p2        p3        p4        p5        p6        p7  \\\n",
       "0  0.701961  0.643137  0.729412  0.725490  0.729412  0.701961  0.749020   \n",
       "1  0.556863  0.505882  0.466667  0.454902  0.372549  0.239216  0.137255   \n",
       "2  0.678431  0.690196  0.682353  0.701961  0.717647  0.705882  0.721569   \n",
       "3  0.847059  0.850980  0.850980  0.866667  0.870588  0.870588  0.874510   \n",
       "4  0.219608  0.223529  0.674510  0.423529  0.890196  0.513726  0.850980   \n",
       "\n",
       "         p8        p9       p10  ...     p4087     p4088     p4089     p4090  \\\n",
       "0  0.737255  0.764706  0.721569  ...  0.733333  0.682353  0.713726  0.745098   \n",
       "1  0.113725  0.113725  0.101961  ...  0.584314  0.572549  0.572549  0.568627   \n",
       "2  0.725490  0.717647  0.709804  ...  0.125490  0.329412  0.164706  0.137255   \n",
       "3  0.878431  0.886275  0.878431  ...  0.678431  0.458824  0.227451  0.270588   \n",
       "4  0.784314  0.725490  0.666667  ...  0.890196  0.909804  0.843137  0.929412   \n",
       "\n",
       "      p4091     p4092     p4093     p4094     p4095     p4096  \n",
       "0  0.729412  0.807843  0.694118  0.639216  0.780392  0.752941  \n",
       "1  0.549020  0.545098  0.545098  0.560784  0.584314  0.607843  \n",
       "2  0.133333  0.160784  0.098039  0.105882  0.321569  0.109804  \n",
       "3  0.309804  0.388235  0.556863  0.607843  0.623529  0.560784  \n",
       "4  0.882353  0.960784  0.854902  0.996078  0.890196  0.913725  \n",
       "\n",
       "[5 rows x 4096 columns]"
      ]
     },
     "execution_count": 52,
     "metadata": {},
     "output_type": "execute_result"
    }
   ],
   "source": [
    "# preview each new DataFrame\n",
    "img_red_df.head()"
   ]
  },
  {
   "cell_type": "code",
   "execution_count": 51,
   "metadata": {
    "scrolled": true
   },
   "outputs": [
    {
     "data": {
      "text/html": [
       "<div>\n",
       "<style scoped>\n",
       "    .dataframe tbody tr th:only-of-type {\n",
       "        vertical-align: middle;\n",
       "    }\n",
       "\n",
       "    .dataframe tbody tr th {\n",
       "        vertical-align: top;\n",
       "    }\n",
       "\n",
       "    .dataframe thead th {\n",
       "        text-align: right;\n",
       "    }\n",
       "</style>\n",
       "<table border=\"1\" class=\"dataframe\">\n",
       "  <thead>\n",
       "    <tr style=\"text-align: right;\">\n",
       "      <th></th>\n",
       "      <th>p1</th>\n",
       "      <th>p2</th>\n",
       "      <th>p3</th>\n",
       "      <th>p4</th>\n",
       "      <th>p5</th>\n",
       "      <th>p6</th>\n",
       "      <th>p7</th>\n",
       "      <th>p8</th>\n",
       "      <th>p9</th>\n",
       "      <th>p10</th>\n",
       "      <th>...</th>\n",
       "      <th>p4087</th>\n",
       "      <th>p4088</th>\n",
       "      <th>p4089</th>\n",
       "      <th>p4090</th>\n",
       "      <th>p4091</th>\n",
       "      <th>p4092</th>\n",
       "      <th>p4093</th>\n",
       "      <th>p4094</th>\n",
       "      <th>p4095</th>\n",
       "      <th>p4096</th>\n",
       "    </tr>\n",
       "  </thead>\n",
       "  <tbody>\n",
       "    <tr>\n",
       "      <th>0</th>\n",
       "      <td>0.686275</td>\n",
       "      <td>0.627451</td>\n",
       "      <td>0.713726</td>\n",
       "      <td>0.725490</td>\n",
       "      <td>0.729412</td>\n",
       "      <td>0.717647</td>\n",
       "      <td>0.741176</td>\n",
       "      <td>0.713726</td>\n",
       "      <td>0.756863</td>\n",
       "      <td>0.713726</td>\n",
       "      <td>...</td>\n",
       "      <td>0.721569</td>\n",
       "      <td>0.662745</td>\n",
       "      <td>0.709804</td>\n",
       "      <td>0.741176</td>\n",
       "      <td>0.701961</td>\n",
       "      <td>0.796078</td>\n",
       "      <td>0.690196</td>\n",
       "      <td>0.635294</td>\n",
       "      <td>0.776471</td>\n",
       "      <td>0.749020</td>\n",
       "    </tr>\n",
       "    <tr>\n",
       "      <th>1</th>\n",
       "      <td>0.545098</td>\n",
       "      <td>0.494118</td>\n",
       "      <td>0.454902</td>\n",
       "      <td>0.443137</td>\n",
       "      <td>0.352941</td>\n",
       "      <td>0.211765</td>\n",
       "      <td>0.086275</td>\n",
       "      <td>0.070588</td>\n",
       "      <td>0.066667</td>\n",
       "      <td>0.054902</td>\n",
       "      <td>...</td>\n",
       "      <td>0.505882</td>\n",
       "      <td>0.494118</td>\n",
       "      <td>0.494118</td>\n",
       "      <td>0.490196</td>\n",
       "      <td>0.470588</td>\n",
       "      <td>0.466667</td>\n",
       "      <td>0.466667</td>\n",
       "      <td>0.482353</td>\n",
       "      <td>0.490196</td>\n",
       "      <td>0.505882</td>\n",
       "    </tr>\n",
       "    <tr>\n",
       "      <th>2</th>\n",
       "      <td>0.662745</td>\n",
       "      <td>0.674510</td>\n",
       "      <td>0.666667</td>\n",
       "      <td>0.686275</td>\n",
       "      <td>0.701961</td>\n",
       "      <td>0.690196</td>\n",
       "      <td>0.705882</td>\n",
       "      <td>0.709804</td>\n",
       "      <td>0.701961</td>\n",
       "      <td>0.694118</td>\n",
       "      <td>...</td>\n",
       "      <td>0.415686</td>\n",
       "      <td>0.615686</td>\n",
       "      <td>0.450980</td>\n",
       "      <td>0.423529</td>\n",
       "      <td>0.419608</td>\n",
       "      <td>0.470588</td>\n",
       "      <td>0.403922</td>\n",
       "      <td>0.411765</td>\n",
       "      <td>0.627451</td>\n",
       "      <td>0.400000</td>\n",
       "    </tr>\n",
       "    <tr>\n",
       "      <th>3</th>\n",
       "      <td>0.878431</td>\n",
       "      <td>0.882353</td>\n",
       "      <td>0.882353</td>\n",
       "      <td>0.886275</td>\n",
       "      <td>0.890196</td>\n",
       "      <td>0.890196</td>\n",
       "      <td>0.894118</td>\n",
       "      <td>0.898039</td>\n",
       "      <td>0.905882</td>\n",
       "      <td>0.898039</td>\n",
       "      <td>...</td>\n",
       "      <td>0.666667</td>\n",
       "      <td>0.447059</td>\n",
       "      <td>0.223529</td>\n",
       "      <td>0.266667</td>\n",
       "      <td>0.298039</td>\n",
       "      <td>0.388235</td>\n",
       "      <td>0.560784</td>\n",
       "      <td>0.611765</td>\n",
       "      <td>0.627451</td>\n",
       "      <td>0.549020</td>\n",
       "    </tr>\n",
       "    <tr>\n",
       "      <th>4</th>\n",
       "      <td>0.239216</td>\n",
       "      <td>0.223529</td>\n",
       "      <td>0.658824</td>\n",
       "      <td>0.388235</td>\n",
       "      <td>0.866667</td>\n",
       "      <td>0.533333</td>\n",
       "      <td>0.850980</td>\n",
       "      <td>0.784314</td>\n",
       "      <td>0.721569</td>\n",
       "      <td>0.666667</td>\n",
       "      <td>...</td>\n",
       "      <td>0.890196</td>\n",
       "      <td>0.909804</td>\n",
       "      <td>0.843137</td>\n",
       "      <td>0.929412</td>\n",
       "      <td>0.901961</td>\n",
       "      <td>0.964706</td>\n",
       "      <td>0.858824</td>\n",
       "      <td>1.000000</td>\n",
       "      <td>0.894118</td>\n",
       "      <td>0.925490</td>\n",
       "    </tr>\n",
       "  </tbody>\n",
       "</table>\n",
       "<p>5 rows × 4096 columns</p>\n",
       "</div>"
      ],
      "text/plain": [
       "         p1        p2        p3        p4        p5        p6        p7  \\\n",
       "0  0.686275  0.627451  0.713726  0.725490  0.729412  0.717647  0.741176   \n",
       "1  0.545098  0.494118  0.454902  0.443137  0.352941  0.211765  0.086275   \n",
       "2  0.662745  0.674510  0.666667  0.686275  0.701961  0.690196  0.705882   \n",
       "3  0.878431  0.882353  0.882353  0.886275  0.890196  0.890196  0.894118   \n",
       "4  0.239216  0.223529  0.658824  0.388235  0.866667  0.533333  0.850980   \n",
       "\n",
       "         p8        p9       p10  ...     p4087     p4088     p4089     p4090  \\\n",
       "0  0.713726  0.756863  0.713726  ...  0.721569  0.662745  0.709804  0.741176   \n",
       "1  0.070588  0.066667  0.054902  ...  0.505882  0.494118  0.494118  0.490196   \n",
       "2  0.709804  0.701961  0.694118  ...  0.415686  0.615686  0.450980  0.423529   \n",
       "3  0.898039  0.905882  0.898039  ...  0.666667  0.447059  0.223529  0.266667   \n",
       "4  0.784314  0.721569  0.666667  ...  0.890196  0.909804  0.843137  0.929412   \n",
       "\n",
       "      p4091     p4092     p4093     p4094     p4095     p4096  \n",
       "0  0.701961  0.796078  0.690196  0.635294  0.776471  0.749020  \n",
       "1  0.470588  0.466667  0.466667  0.482353  0.490196  0.505882  \n",
       "2  0.419608  0.470588  0.403922  0.411765  0.627451  0.400000  \n",
       "3  0.298039  0.388235  0.560784  0.611765  0.627451  0.549020  \n",
       "4  0.901961  0.964706  0.858824  1.000000  0.894118  0.925490  \n",
       "\n",
       "[5 rows x 4096 columns]"
      ]
     },
     "execution_count": 51,
     "metadata": {},
     "output_type": "execute_result"
    }
   ],
   "source": [
    "# preview each new DataFrame\n",
    "img_green_df.head()"
   ]
  },
  {
   "cell_type": "code",
   "execution_count": 53,
   "metadata": {},
   "outputs": [
    {
     "data": {
      "text/html": [
       "<div>\n",
       "<style scoped>\n",
       "    .dataframe tbody tr th:only-of-type {\n",
       "        vertical-align: middle;\n",
       "    }\n",
       "\n",
       "    .dataframe tbody tr th {\n",
       "        vertical-align: top;\n",
       "    }\n",
       "\n",
       "    .dataframe thead th {\n",
       "        text-align: right;\n",
       "    }\n",
       "</style>\n",
       "<table border=\"1\" class=\"dataframe\">\n",
       "  <thead>\n",
       "    <tr style=\"text-align: right;\">\n",
       "      <th></th>\n",
       "      <th>p1</th>\n",
       "      <th>p2</th>\n",
       "      <th>p3</th>\n",
       "      <th>p4</th>\n",
       "      <th>p5</th>\n",
       "      <th>p6</th>\n",
       "      <th>p7</th>\n",
       "      <th>p8</th>\n",
       "      <th>p9</th>\n",
       "      <th>p10</th>\n",
       "      <th>...</th>\n",
       "      <th>p4087</th>\n",
       "      <th>p4088</th>\n",
       "      <th>p4089</th>\n",
       "      <th>p4090</th>\n",
       "      <th>p4091</th>\n",
       "      <th>p4092</th>\n",
       "      <th>p4093</th>\n",
       "      <th>p4094</th>\n",
       "      <th>p4095</th>\n",
       "      <th>p4096</th>\n",
       "    </tr>\n",
       "  </thead>\n",
       "  <tbody>\n",
       "    <tr>\n",
       "      <th>0</th>\n",
       "      <td>0.741176</td>\n",
       "      <td>0.682353</td>\n",
       "      <td>0.768627</td>\n",
       "      <td>0.772549</td>\n",
       "      <td>0.776471</td>\n",
       "      <td>0.760784</td>\n",
       "      <td>0.784314</td>\n",
       "      <td>0.752941</td>\n",
       "      <td>0.800000</td>\n",
       "      <td>0.756863</td>\n",
       "      <td>...</td>\n",
       "      <td>0.701961</td>\n",
       "      <td>0.639216</td>\n",
       "      <td>0.690196</td>\n",
       "      <td>0.721569</td>\n",
       "      <td>0.662745</td>\n",
       "      <td>0.776471</td>\n",
       "      <td>0.682353</td>\n",
       "      <td>0.619608</td>\n",
       "      <td>0.760784</td>\n",
       "      <td>0.733333</td>\n",
       "    </tr>\n",
       "    <tr>\n",
       "      <th>1</th>\n",
       "      <td>0.572549</td>\n",
       "      <td>0.521569</td>\n",
       "      <td>0.482353</td>\n",
       "      <td>0.470588</td>\n",
       "      <td>0.380392</td>\n",
       "      <td>0.239216</td>\n",
       "      <td>0.113725</td>\n",
       "      <td>0.101961</td>\n",
       "      <td>0.105882</td>\n",
       "      <td>0.094118</td>\n",
       "      <td>...</td>\n",
       "      <td>0.407843</td>\n",
       "      <td>0.396078</td>\n",
       "      <td>0.396078</td>\n",
       "      <td>0.392157</td>\n",
       "      <td>0.372549</td>\n",
       "      <td>0.368627</td>\n",
       "      <td>0.368627</td>\n",
       "      <td>0.384314</td>\n",
       "      <td>0.388235</td>\n",
       "      <td>0.415686</td>\n",
       "    </tr>\n",
       "    <tr>\n",
       "      <th>2</th>\n",
       "      <td>0.517647</td>\n",
       "      <td>0.529412</td>\n",
       "      <td>0.521569</td>\n",
       "      <td>0.541176</td>\n",
       "      <td>0.552941</td>\n",
       "      <td>0.541176</td>\n",
       "      <td>0.556863</td>\n",
       "      <td>0.560784</td>\n",
       "      <td>0.552941</td>\n",
       "      <td>0.545098</td>\n",
       "      <td>...</td>\n",
       "      <td>0.427451</td>\n",
       "      <td>0.639216</td>\n",
       "      <td>0.474510</td>\n",
       "      <td>0.447059</td>\n",
       "      <td>0.443137</td>\n",
       "      <td>0.486275</td>\n",
       "      <td>0.419608</td>\n",
       "      <td>0.427451</td>\n",
       "      <td>0.643137</td>\n",
       "      <td>0.411765</td>\n",
       "    </tr>\n",
       "    <tr>\n",
       "      <th>3</th>\n",
       "      <td>0.890196</td>\n",
       "      <td>0.894118</td>\n",
       "      <td>0.894118</td>\n",
       "      <td>0.901961</td>\n",
       "      <td>0.905882</td>\n",
       "      <td>0.901961</td>\n",
       "      <td>0.905882</td>\n",
       "      <td>0.909804</td>\n",
       "      <td>0.921569</td>\n",
       "      <td>0.913725</td>\n",
       "      <td>...</td>\n",
       "      <td>0.647059</td>\n",
       "      <td>0.427451</td>\n",
       "      <td>0.203922</td>\n",
       "      <td>0.247059</td>\n",
       "      <td>0.262745</td>\n",
       "      <td>0.356863</td>\n",
       "      <td>0.537255</td>\n",
       "      <td>0.592157</td>\n",
       "      <td>0.596078</td>\n",
       "      <td>0.521569</td>\n",
       "    </tr>\n",
       "    <tr>\n",
       "      <th>4</th>\n",
       "      <td>0.250980</td>\n",
       "      <td>0.215686</td>\n",
       "      <td>0.654902</td>\n",
       "      <td>0.392157</td>\n",
       "      <td>0.866667</td>\n",
       "      <td>0.509804</td>\n",
       "      <td>0.843137</td>\n",
       "      <td>0.776471</td>\n",
       "      <td>0.705882</td>\n",
       "      <td>0.619608</td>\n",
       "      <td>...</td>\n",
       "      <td>0.890196</td>\n",
       "      <td>0.909804</td>\n",
       "      <td>0.843137</td>\n",
       "      <td>0.929412</td>\n",
       "      <td>0.917647</td>\n",
       "      <td>0.984314</td>\n",
       "      <td>0.878431</td>\n",
       "      <td>1.000000</td>\n",
       "      <td>0.909804</td>\n",
       "      <td>0.945098</td>\n",
       "    </tr>\n",
       "  </tbody>\n",
       "</table>\n",
       "<p>5 rows × 4096 columns</p>\n",
       "</div>"
      ],
      "text/plain": [
       "         p1        p2        p3        p4        p5        p6        p7  \\\n",
       "0  0.741176  0.682353  0.768627  0.772549  0.776471  0.760784  0.784314   \n",
       "1  0.572549  0.521569  0.482353  0.470588  0.380392  0.239216  0.113725   \n",
       "2  0.517647  0.529412  0.521569  0.541176  0.552941  0.541176  0.556863   \n",
       "3  0.890196  0.894118  0.894118  0.901961  0.905882  0.901961  0.905882   \n",
       "4  0.250980  0.215686  0.654902  0.392157  0.866667  0.509804  0.843137   \n",
       "\n",
       "         p8        p9       p10  ...     p4087     p4088     p4089     p4090  \\\n",
       "0  0.752941  0.800000  0.756863  ...  0.701961  0.639216  0.690196  0.721569   \n",
       "1  0.101961  0.105882  0.094118  ...  0.407843  0.396078  0.396078  0.392157   \n",
       "2  0.560784  0.552941  0.545098  ...  0.427451  0.639216  0.474510  0.447059   \n",
       "3  0.909804  0.921569  0.913725  ...  0.647059  0.427451  0.203922  0.247059   \n",
       "4  0.776471  0.705882  0.619608  ...  0.890196  0.909804  0.843137  0.929412   \n",
       "\n",
       "      p4091     p4092     p4093     p4094     p4095     p4096  \n",
       "0  0.662745  0.776471  0.682353  0.619608  0.760784  0.733333  \n",
       "1  0.372549  0.368627  0.368627  0.384314  0.388235  0.415686  \n",
       "2  0.443137  0.486275  0.419608  0.427451  0.643137  0.411765  \n",
       "3  0.262745  0.356863  0.537255  0.592157  0.596078  0.521569  \n",
       "4  0.917647  0.984314  0.878431  1.000000  0.909804  0.945098  \n",
       "\n",
       "[5 rows x 4096 columns]"
      ]
     },
     "execution_count": 53,
     "metadata": {},
     "output_type": "execute_result"
    }
   ],
   "source": [
    "# preview each new DataFrame\n",
    "img_blue_df.head()"
   ]
  },
  {
   "cell_type": "markdown",
   "metadata": {},
   "source": [
    "### Datasets Summary"
   ]
  },
  {
   "cell_type": "markdown",
   "metadata": {},
   "source": [
    "Great! We have now cleaned and prepared several datasets, which is arguably the most important task in all of the machine learning process. Let's take a quick inventory, so that we know what data we have available to us going forward."
   ]
  },
  {
   "cell_type": "markdown",
   "metadata": {},
   "source": [
    "<b>Datasets</b>\n",
    "<ul>\n",
    "    <u>Metadata Datasets</u>\n",
    "    <li><b>data</b> - regression dataset consisting of our raw data</li>\n",
    "    <li><b>df_2class</b> - classification dataset consisting of 2 class output. Target included in DataFrame.</li>\n",
    "    <li><b>df_3class</b> - classification dataset consisting of 3 class output. Target included in DataFrame.</li>\n",
    "    <li><b>df_4class</b> - classification dataset consisting of 4 class output. Target included in DataFrame.</li>\n",
    "    <li><b>df_5class</b> - classification dataset consisting of 5 class output. Target included in DataFrame.</li>\n",
    "    <u>Image Datasets</u>\n",
    "    <li><b>data_images</b> - dataset consisting of the images, with each image in structured array format. can be explored using to_image function.</li>\n",
    "    <li><b>img_df</b> - structured image DataFrame with each column representing the R, G, or B intensity of a pixel, ranging between and including 0 and 1. </li>\n",
    "    <li><b>img_red_df</b> - structured image DataFrame with each column representing the R intensity of a pixel, ranging between and including 0 and 1. </li>\n",
    "    <li><b>img_green_df</b> - structured image DataFrame with each column representing the G intensity of a pixel, ranging between and including 0 and 1. </li>\n",
    "    <li><b>img_blue_df</b> - structured image DataFrame with each column representing the B intensity of a pixel, ranging between and including 0 and 1. </li>"
   ]
  },
  {
   "cell_type": "markdown",
   "metadata": {},
   "source": [
    "Note that it might be convenient to mix and match some of these datasets - we'll have to test it out to see what approach works best. We might as well save the various data into our datasets folder for housekeeping, portability, and backup purposes. "
   ]
  },
  {
   "cell_type": "code",
   "execution_count": 55,
   "metadata": {},
   "outputs": [],
   "source": [
    "# uncomment the code below if you wish to save the newly created data to files\n",
    "\n",
    "# df.to_csv('datasets/og_df.csv', index=False)\n",
    "# df_2class.to_csv('datasets/2class_df.csv', index=False)\n",
    "# df_3class.to_csv('datasets/3class_df.csv', index=False)\n",
    "# df_4class.to_csv('datasets/4class_df.csv', index=False)\n",
    "# df_5class.to_csv('datasets/5class_df.csv', index=False)\n",
    "# np.save('datasets/images_array.npy', data_images)\n",
    "# img_df.to_csv('datasets/image_df.csv', index=False)\n",
    "# img_red_df.to_csv('datasets/img_red_df.csv', index=False)\n",
    "# img_green_df.to_csv('datasets/img_green_df.csv', index=False)\n",
    "# img_blue_df.to_csv('datasets/img_blue_df.csv', index=False)"
   ]
  },
  {
   "cell_type": "markdown",
   "metadata": {},
   "source": [
    "Nice! We can now move on to the modeling process. "
   ]
  }
 ],
 "metadata": {
  "kernelspec": {
   "display_name": "Python (learn-env)",
   "language": "python",
   "name": "learn-env"
  },
  "language_info": {
   "codemirror_mode": {
    "name": "ipython",
    "version": 3
   },
   "file_extension": ".py",
   "mimetype": "text/x-python",
   "name": "python",
   "nbconvert_exporter": "python",
   "pygments_lexer": "ipython3",
   "version": "3.8.5"
  },
  "varInspector": {
   "cols": {
    "lenName": 16,
    "lenType": 16,
    "lenVar": 40
   },
   "kernels_config": {
    "python": {
     "delete_cmd_postfix": "",
     "delete_cmd_prefix": "del ",
     "library": "var_list.py",
     "varRefreshCmd": "print(var_dic_list())"
    },
    "r": {
     "delete_cmd_postfix": ") ",
     "delete_cmd_prefix": "rm(",
     "library": "var_list.r",
     "varRefreshCmd": "cat(var_dic_list()) "
    }
   },
   "types_to_exclude": [
    "module",
    "function",
    "builtin_function_or_method",
    "instance",
    "_Feature"
   ],
   "window_display": false
  }
 },
 "nbformat": 4,
 "nbformat_minor": 2
}
